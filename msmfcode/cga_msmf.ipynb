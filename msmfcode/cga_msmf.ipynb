{
 "cells": [
  {
   "cell_type": "markdown",
   "id": "00d58bdc-1935-43c8-8082-d28d9cb941ed",
   "metadata": {},
   "source": [
    "### Imports and Configuration"
   ]
  },
  {
   "cell_type": "code",
   "execution_count": null,
   "id": "76dd50f1-3c93-41c6-be02-2944c1a477ad",
   "metadata": {},
   "outputs": [],
   "source": [
    "import os\n",
    "if os.environ.get('DISPLAY') is not None:\n",
    "    %matplotlib tk\n",
    "\n",
    "import msmfcode_src\n",
    "from msmfcode.core.logging import log\n",
    "from msmfcode.core.config import *\n",
    "from msmfcode.execution.optimization import ContGeneticAlgorithm\n",
    "from msmfcode.models.cann import Grid, DMSMF, FMSMF, SSSF\n",
    "from msmfcode.execution.parallel import ParallelExecutor\n",
    "from msmfcode.evaluation.data import load_optimization_state\n",
    "\n",
    "\n",
    "# Config\n",
    "log.handlers[LogHandler.STREAM].setLevel(logging.DEBUG)\n",
    "log.handlers[LogHandler.FILE].setLevel(logging.DEBUG)"
   ]
  },
  {
   "cell_type": "markdown",
   "id": "11da8672-df38-4102-9e12-f10a6bc45a7f",
   "metadata": {},
   "source": [
    "### CGA Optimization\n"
   ]
  },
  {
   "cell_type": "code",
   "execution_count": null,
   "id": "c9d23123-63d1-4ee4-bfae-155ecdd17793",
   "metadata": {},
   "outputs": [],
   "source": [
    "cga = ContGeneticAlgorithm(ParallelExecutor, FMSMF)\n",
    "\n",
    "cga.run(num_gen=3000, save_interval=5)"
   ]
  },
  {
   "cell_type": "markdown",
   "source": [
    "### CGA Plotting"
   ],
   "metadata": {
    "collapsed": false
   }
  },
  {
   "cell_type": "code",
   "execution_count": null,
   "outputs": [],
   "source": [
    "import numpy as np\n",
    "import matplotlib.pyplot as plt\n",
    "from msmfcode.evaluation.plot import plot_fitness\n",
    "\n",
    "# Config\n",
    "network_type = DMSMF\n",
    "range_ids = [11, 16, 23, 24]\n",
    "\n",
    "for i in range_ids:\n",
    "    plt.figure()\n",
    "    plot_fitness(network_type, i, data_fun=np.max)\n",
    "    plot_fitness(network_type, i, data_fun=np.mean)\n"
   ],
   "metadata": {
    "collapsed": false
   }
  },
  {
   "cell_type": "markdown",
   "source": [
    "### CGA Verification"
   ],
   "metadata": {
    "collapsed": false
   }
  },
  {
   "cell_type": "code",
   "execution_count": null,
   "outputs": [],
   "source": [
    "import os\n",
    "\n",
    "if os.environ.get('DISPLAY') is not None:\n",
    "    %matplotlib tk\n",
    "\n",
    "import msmfcode_src\n",
    "from msmfcode.core.logging import log\n",
    "from msmfcode.core.config import *\n",
    "from msmfcode.models.cann import Grid, FMSMF, DMSMF, DiffSolverError, EmptyFields\n",
    "from msmfcode.execution.parallel import ParallelExecutor\n",
    "from msmfcode.evaluation.data import load_experimental_data, load_experimental_config, convert_experimental_config\n",
    "from msmfcode.cga_verification import run_optimization_verification\n",
    "\n",
    "import warnings\n",
    "warnings.filterwarnings(\"error\")\n",
    "\n",
    "## Config\n",
    "experiment_type = ExperimentType.OPTIMIZATION\n",
    "network_type = DMSMF\n",
    "experiment_nums = [1, 2, 5, 6]\n",
    "verification_metrics = {Metric.POS_ERROR_MEAN + '_mean': 0.3, Metric.AVG_NUM_FIELDS_PER_NEURON + '_mean': 0.1}\n",
    "perc_samples = None\n",
    "num_samples = 100\n",
    "\n",
    "log.handlers[LogHandler.STREAM].setLevel(logging.DEBUG)\n",
    "log.handlers[LogHandler.FILE].setLevel(logging.ESSENS)\n",
    "\n",
    "\n",
    "## Code\n",
    "for exp_num in experiment_nums:\n",
    "    run_optimization_verification(experiment_type, network_type, exp_num, verification_metrics,\n",
    "                                  num_samples=num_samples, perc_samples=perc_samples)"
   ],
   "metadata": {
    "collapsed": false
   }
  }
 ],
 "metadata": {
  "kernelspec": {
   "name": "python3",
   "language": "python",
   "display_name": "Python 3"
  },
  "language_info": {
   "codemirror_mode": {
    "name": "ipython",
    "version": 3
   },
   "file_extension": ".py",
   "mimetype": "text/x-python",
   "name": "python",
   "nbconvert_exporter": "python",
   "pygments_lexer": "ipython3",
   "version": "3.8.10"
  }
 },
 "nbformat": 4,
 "nbformat_minor": 5
}
