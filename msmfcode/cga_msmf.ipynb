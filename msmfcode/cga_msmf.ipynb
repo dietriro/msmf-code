{
 "cells": [
  {
   "cell_type": "markdown",
   "id": "00d58bdc-1935-43c8-8082-d28d9cb941ed",
   "metadata": {},
   "source": [
    "### Imports and Configuration"
   ]
  },
  {
   "cell_type": "code",
   "execution_count": 1,
   "id": "76dd50f1-3c93-41c6-be02-2944c1a477ad",
   "metadata": {},
   "outputs": [],
   "source": [
    "import os\n",
    "if os.environ.get('DISPLAY') is not None:\n",
    "    %matplotlib tk\n",
    "\n",
    "import msmfcodesrc\n",
    "from msmfcode.core.logging import log\n",
    "from msmfcode.core.config import *\n",
    "from msmfcode.execution.optimization import ContGeneticAlgorithm\n",
    "from msmfcode.models.cann import Grid, DMSMF, FMSMF, SSSF\n",
    "from msmfcode.execution.parallel import ParallelExecutor\n",
    "from msmfcode.evaluation.data import load_optimization_state\n",
    "\n",
    "\n",
    "# Config\n",
    "log.handlers[LogHandler.STREAM].setLevel(logging.DEBUG)\n",
    "log.handlers[LogHandler.FILE].setLevel(logging.DEBUG)"
   ]
  },
  {
   "cell_type": "markdown",
   "id": "11da8672-df38-4102-9e12-f10a6bc45a7f",
   "metadata": {},
   "source": [
    "### CGA MSMF Grid CAN\n"
   ]
  },
  {
   "cell_type": "code",
   "execution_count": null,
   "id": "c9d23123-63d1-4ee4-bfae-155ecdd17793",
   "metadata": {},
   "outputs": [],
   "source": [
    "cga = ContGeneticAlgorithm(ParallelExecutor, FMSMF)\n",
    "\n",
    "cga.run(num_gen=3000, save_interval=5)"
   ]
  },
  {
   "cell_type": "markdown",
   "source": [
    "### Plotting"
   ],
   "metadata": {
    "collapsed": false
   }
  },
  {
   "cell_type": "code",
   "execution_count": null,
   "outputs": [],
   "source": [
    "import numpy as np\n",
    "import matplotlib.pyplot as plt\n",
    "from msmfcode.evaluation.plot import plot_fitness\n",
    "\n",
    "# Config\n",
    "network_type = DMSMF\n",
    "range_ids = [11, 16, 23, 24]\n",
    "\n",
    "for i in range_ids:\n",
    "    plt.figure()\n",
    "    plot_fitness(network_type, i, data_fun=np.max)\n",
    "    plot_fitness(network_type, i, data_fun=np.mean)\n",
    "\n",
    "\n",
    "\n",
    "\n",
    "# plt.figure()\n",
    "# plot_fitness(FMSMF, 5, data_fun=np.max)\n",
    "# plot_fitness(FMSMF, 5, data_fun=np.mean)\n"
   ],
   "metadata": {
    "collapsed": false
   }
  },
  {
   "cell_type": "code",
   "execution_count": null,
   "outputs": [],
   "source": [],
   "metadata": {
    "collapsed": false
   }
  },
  {
   "cell_type": "code",
   "execution_count": null,
   "outputs": [
    {
     "name": "stderr",
     "output_type": "stream",
     "text": [
      "\u001B[32m# [1/100] Verifying the correctness for params: {'alpha': 3.9, 'theta': 0.88, 'max_field_sizes': 36}\n",
      "\u001B[0m\n",
      "\u001B[37mCAN [0] Random Seed = 1666018291180006190\u001B[0m\n",
      "\u001B[37mCAN [1] Random Seed = 1666018291182656642\u001B[0m\n",
      "\u001B[37mCAN [2] Random Seed = 1666018291185115051\u001B[0m\n",
      "\u001B[37mCAN [3] Random Seed = 1666018291187555196\u001B[0m\n",
      "\u001B[37mCAN [4] Random Seed = 1666018291190102733\u001B[0m\n",
      "\u001B[37mCAN [5] Random Seed = 1666018291193257604\u001B[0m\n",
      "\u001B[37mCAN [6] Random Seed = 1666018291195768572\u001B[0m\n",
      "\u001B[37mCAN [7] Random Seed = 1666018291197846666\u001B[0m\n",
      "\u001B[37mCAN [8] Random Seed = 1666018291200480506\u001B[0m\n",
      "\u001B[37mCAN [9] Random Seed = 1666018291203316456\u001B[0m\n",
      "\u001B[37mCAN [10] Random Seed = 1666018291205486132\u001B[0m\n",
      "\u001B[37mCAN [11] Random Seed = 1666018291208063956\u001B[0m\n",
      "\u001B[37mCAN [12] Random Seed = 1666018291210937036\u001B[0m\n",
      "\u001B[37mCAN [13] Random Seed = 1666018291213461370\u001B[0m\n",
      "\u001B[37mCAN [14] Random Seed = 1666018291215928325\u001B[0m\n",
      "\u001B[37mCAN [15] Random Seed = 1666018291218244126\u001B[0m\n",
      "\u001B[37mCAN [16] Random Seed = 1666018291220680825\u001B[0m\n",
      "\u001B[37mCAN [17] Random Seed = 1666018291222921885\u001B[0m\n",
      "\u001B[37mCAN [18] Random Seed = 1666018291225104886\u001B[0m\n",
      "\u001B[37mCAN [19] Random Seed = 1666018291226999123\u001B[0m\n",
      "\u001B[32m> Starting experiment ga-01: Optimization with a continuous genetic algorithm\u001B[0m\n",
      "\u001B[32m>> Starting evaluation run\u001B[0m\n",
      "\u001B[32m>> Starting batch run [1/2]\u001B[0m\n",
      "\u001B[37m>>> Starting evaluation iteration 0\u001B[0m\n"
     ]
    },
    {
     "name": "stdout",
     "output_type": "stream",
     "text": [
      "{'experiment_num': 1, 'network_type': 'DMSMF', 'I': 0.0, 'Iloc': 0.05, 'J0': 0.0, 'J1': 0.0, 'T': 20.0, 'disc_step': 0.5, 'dt': 0.05, 'env_length': 200, 'field_ratio_threshold': None, 'init_value': 0.01, 'max_num_tries': 1000, 'num_neurons': 50, 'prob_dead_neurons': 0.0, 'random_seed': 'time', 's': 400, 'tau': 0.01, 'theta': 0.88, 'vel': 20.0, 'opt_scaling_factor': None, 'opt_alpha': [0.02, 6.0, 0.02], 'opt_max_field_sizes': [2, 101, 1], 'population_size': 20, 'mutation_prob': 0.2, 'num_generations': 1040, 'parent_selection_scheme': 'fitness-weighting', 'parent_selection_parameter': None, 'expected_mean_field_activity': 0.015, 'fitness_fun': 'np.exp(-pos_error_mean*5/pos_error_max)', 'time_finished': '07.10.22 - 13:19', 'alpha': 3.9, 'max_field_sizes': 36, 'scaling_factor': 0.3, 'opt_J1': None, 'opt_J0': None, 'opt_I': None, 'opt_field_ratio_threshold': None, 'allow_field_overlap': False, 'mean_field_activity_remove_background': True, 'crossover_enabled': True, 'num_eval_iters': 20, 'fitness_max': 0.41189, 'dead_neuron_ids': None, 'selection_rate': 0.2, 'mutate_best': False, 'reevaluation': False, 'opt_theta': [0.02, 6.0, 0.02], 'gen_fields_at_bin_locs': False}\n"
     ]
    }
   ],
   "source": [
    "import os\n",
    "import numpy as np\n",
    "import pandas as pd\n",
    "from copy import copy\n",
    "\n",
    "if os.environ.get('DISPLAY') is not None:\n",
    "    %matplotlib tk\n",
    "\n",
    "import msmfcodesrc\n",
    "from msmfcode.core.logging import log\n",
    "from msmfcode.core.config import *\n",
    "from msmfcode.models.cann import Grid, FMSMF, DMSMF, DiffSolverError, EmptyFields\n",
    "from msmfcode.execution.parallel import ParallelExecutor\n",
    "from msmfcode.evaluation.data import load_experimental_data, load_experimental_config, convert_experimental_config\n",
    "from msmfcode.cga_verification import run_optimization_verification\n",
    "\n",
    "import warnings\n",
    "warnings.filterwarnings(\"error\")\n",
    "\n",
    "## Config\n",
    "experiment_type = ExperimentType.OPTIMIZATION\n",
    "network_type = DMSMF\n",
    "experiment_nums = [1, 2, 5, 6]\n",
    "verification_metrics = {Metric.POS_ERROR_MEAN + '_mean': 0.3, Metric.AVG_NUM_FIELDS_PER_NEURON + '_mean': 0.1}\n",
    "perc_samples = None\n",
    "num_samples = 100\n",
    "\n",
    "log.handlers[LogHandler.STREAM].setLevel(logging.DEBUG)\n",
    "log.handlers[LogHandler.FILE].setLevel(logging.ESSENS)\n",
    "\n",
    "\n",
    "## Code\n",
    "for exp_num in experiment_nums:\n",
    "    run_optimization_verification(experiment_type, network_type, exp_num, verification_metrics,\n",
    "                                  num_samples=num_samples, perc_samples=perc_samples)"
   ],
   "metadata": {
    "collapsed": false
   }
  },
  {
   "cell_type": "code",
   "execution_count": null,
   "outputs": [],
   "source": [
    "{'experiment_num': 1, 'network_type': 'DMSMF', 'I': 0.0, 'Iloc': 0.05, 'J0': 0.0, 'J1': 0.0, 'T': 20.0, 'disc_step': 0.5, 'dt': 0.05, 'env_length': 200, 'field_ratio_threshold': None, 'init_value': 0.01, 'max_num_tries': 1000, 'num_neurons': 50, 'prob_dead_neurons': 0.0, 'random_seed': 'time', 's': 400, 'tau': 0.01, 'theta': 0.16, 'vel': 20.0, 'opt_scaling_factor': None, 'opt_alpha': [0.02, 6.0, 0.02], 'opt_max_field_sizes': [2, 101, 1], 'population_size': 20, 'mutation_prob': 0.2, 'num_generations': 1040, 'parent_selection_scheme': 'fitness-weighting', 'parent_selection_parameter': None, 'expected_mean_field_activity': 0.015, 'fitness_fun': 'np.exp(-pos_error_mean*5/pos_error_max)', 'time_finished': '07.10.22 - 13:19', 'alpha': 5.16, 'max_field_sizes': 34, 'scaling_factor': 0.3, 'opt_J1': None, 'opt_J0': None, 'opt_I': None, 'opt_field_ratio_threshold': None, 'allow_field_overlap': False, 'mean_field_activity_remove_background': True, 'crossover_enabled': True, 'num_eval_iters': 20, 'fitness_max': 0.41189, 'dead_neuron_ids': None, 'selection_rate': 0.2, 'mutate_best': False, 'reevaluation': False, 'opt_theta': [0.02, 6.0, 0.02], 'gen_fields_at_bin_locs': False}\n",
    "\n",
    "{'experiment_num': 1, 'network_type': 'DMSMF', 'I': 0.0, 'Iloc': 0.05, 'J0': 0.0, 'J1': 0.0, 'T': 20.0, 'disc_step': 0.5, 'dt': 0.05, 'env_length': 200, 'field_ratio_threshold': None, 'init_value': 0.01, 'max_num_tries': 1000, 'num_neurons': 50, 'prob_dead_neurons': 0.0, 'random_seed': 'time', 's': 400, 'tau': 0.01, 'theta': 0.88, 'vel': 20.0, 'opt_scaling_factor': None, 'opt_alpha': [0.02, 6.0, 0.02], 'opt_max_field_sizes': [2, 101, 1], 'population_size': 20, 'mutation_prob': 0.2, 'num_generations': 1040, 'parent_selection_scheme': 'fitness-weighting', 'parent_selection_parameter': None, 'expected_mean_field_activity': 0.015, 'fitness_fun': 'np.exp(-pos_error_mean*5/pos_error_max)', 'time_finished': '07.10.22 - 13:19', 'alpha': 3.9, 'max_field_sizes': 36, 'scaling_factor': 0.3, 'opt_J1': None, 'opt_J0': None, 'opt_I': None, 'opt_field_ratio_threshold': None, 'allow_field_overlap': False, 'mean_field_activity_remove_background': True, 'crossover_enabled': True, 'num_eval_iters': 20, 'fitness_max': 0.41189, 'dead_neuron_ids': None, 'selection_rate': 0.2, 'mutate_best': False, 'reevaluation': False, 'opt_theta': [0.02, 6.0, 0.02], 'gen_fields_at_bin_locs': False}\n"
   ],
   "metadata": {
    "collapsed": false
   }
  }
 ],
 "metadata": {
  "kernelspec": {
   "name": "python3",
   "language": "python",
   "display_name": "Python 3"
  },
  "language_info": {
   "codemirror_mode": {
    "name": "ipython",
    "version": 3
   },
   "file_extension": ".py",
   "mimetype": "text/x-python",
   "name": "python",
   "nbconvert_exporter": "python",
   "pygments_lexer": "ipython3",
   "version": "3.8.10"
  }
 },
 "nbformat": 4,
 "nbformat_minor": 5
}
