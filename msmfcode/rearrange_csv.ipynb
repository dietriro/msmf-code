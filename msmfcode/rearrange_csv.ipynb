{
 "cells": [
  {
   "cell_type": "code",
   "execution_count": 1,
   "outputs": [],
   "source": [
    "import os\n",
    "\n",
    "import matplotlib.pyplot as plt\n",
    "import numpy as np\n",
    "import pandas as pd\n",
    "\n",
    "if os.environ.get('DISPLAY') is not None:\n",
    "    %matplotlib tk\n",
    "\n",
    "import msmfcodesrc\n",
    "from msmfcode.core.config import *\n",
    "from msmfcode.models.cann import MSMFSingleCAN, MSMFMultiCAN, MSMFGridCAN, SSSFCAN\n",
    "from msmfcode.evaluation.plot import gen_plot_error_box\n",
    "from msmfcode.evaluation.data import load_experimental_config\n",
    "\n",
    "plt.rcParams['text.usetex'] = True\n",
    "\n",
    "\n",
    "# Configuration\n",
    "PlotConfig.FILE_TYPE = 'pdf'"
   ],
   "metadata": {
    "collapsed": false
   }
  },
  {
   "cell_type": "markdown",
   "source": [
    "### Functions"
   ],
   "metadata": {
    "collapsed": false
   }
  },
  {
   "cell_type": "code",
   "execution_count": 2,
   "outputs": [],
   "source": [
    "def move_column(df, column_name, new_position):\n",
    "    columns = df.columns.to_list()\n",
    "    columns.remove(column_name)\n",
    "    columns.insert(new_position, column_name)\n",
    "\n",
    "    return df.reindex(columns=columns)"
   ],
   "metadata": {
    "collapsed": false
   }
  },
  {
   "cell_type": "markdown",
   "source": [
    "### Load CSV file"
   ],
   "metadata": {
    "collapsed": false
   }
  },
  {
   "cell_type": "code",
   "execution_count": 4,
   "outputs": [],
   "source": [
    "network_type = MSMFMultiCAN\n",
    "experiment_type = ExperimentType.EXP\n",
    "\n",
    "file_path = join(EXPERIMENT_FOLDERS[network_type.__name__], EXPERIMENT_SETUP_FILE_NAME[experiment_type])\n",
    "\n",
    "if not exists(file_path):\n",
    "    exit(0)\n",
    "\n",
    "df = pd.read_csv(file_path)\n",
    "\n",
    "df = move_column(df, 'fitness_max', 2)\n",
    "\n",
    "df.to_csv(file_path, index=False)\n",
    "\n"
   ],
   "metadata": {
    "collapsed": false
   }
  },
  {
   "cell_type": "markdown",
   "source": [
    "### Merge two files"
   ],
   "metadata": {
    "collapsed": false
   }
  },
  {
   "cell_type": "code",
   "execution_count": 27,
   "outputs": [
    {
     "name": "stdout",
     "output_type": "stream",
     "text": [
      "0     18.0\n",
      "1     18.0\n",
      "2     18.0\n",
      "3     18.0\n",
      "4     18.0\n",
      "5     18.0\n",
      "6     18.0\n",
      "7     18.0\n",
      "0     None\n",
      "1     None\n",
      "2     None\n",
      "3     None\n",
      "8     None\n",
      "9     None\n",
      "10    None\n",
      "11    None\n",
      "12    None\n",
      "13    None\n",
      "14    None\n",
      "15    None\n",
      "16    None\n",
      "17    None\n",
      "Name: avg_accum_field_coverage_per_neuron_median, dtype: object\n"
     ]
    }
   ],
   "source": [
    "additional_file_path = join(PY_PKG_PATH, 'data/evaluation/experiments_single.csv')\n",
    "\n",
    "df_add = pd.read_csv(additional_file_path)\n",
    "\n",
    "# df_new = pd.merge(df, df_add, how='outer')\n",
    "df_new = pd.concat([df, df_add])\n",
    "\n",
    "# df_new = df_new.set_index('experiment_num')\n",
    "df_new = df_new.sort_values('experiment_num')\n",
    "df_new = df_new.replace(np.nan, 'None', regex=True)\n",
    "\n",
    "columns = df_new.columns.to_list()\n",
    "columns.remove('description')\n",
    "columns.insert(4, 'description')\n",
    "\n",
    "df_new = df_new.reindex(columns=columns)\n",
    "\n",
    "df_new.to_csv('experiments_single.csv', index=False)\n",
    "\n",
    "# print(df_new)\n",
    "print(df_new['avg_accum_field_coverage_per_neuron_median'])"
   ],
   "metadata": {
    "collapsed": false
   }
  },
  {
   "cell_type": "markdown",
   "source": [],
   "metadata": {
    "collapsed": false
   }
  }
 ],
 "metadata": {
  "kernelspec": {
   "display_name": "Python 3",
   "language": "python",
   "name": "python3"
  },
  "language_info": {
   "codemirror_mode": {
    "name": "ipython",
    "version": 2
   },
   "file_extension": ".py",
   "mimetype": "text/x-python",
   "name": "python",
   "nbconvert_exporter": "python",
   "pygments_lexer": "ipython2",
   "version": "2.7.6"
  }
 },
 "nbformat": 4,
 "nbformat_minor": 0
}
