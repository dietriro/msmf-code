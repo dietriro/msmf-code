{
 "cells": [
  {
   "cell_type": "code",
   "execution_count": 81,
   "outputs": [],
   "source": [
    "import matplotlib.pyplot as plt\n",
    "from msmfcode.core.config import *\n",
    "from msmfcode.evaluation.plot import plot_error\n",
    "from msmfcode.evaluation.data import load_experimental_data, load_experimental_config\n",
    "from msmfcode.models.cann import MSMFSingleCAN, MSMFMultiCAN, MSMFGridCAN, SSSFCAN\n",
    "\n",
    "plt.rcParams.update({'font.size': 21})\n",
    "plt.rcParams['text.usetex'] = True\n",
    "\n",
    "ERROR_LABELS = {Metric.POS_ERROR_MEAN: 'Median positional decoding error $E_{pos}^{\\\\tilde{\\mu}}$ (m)',\n",
    "                Metric.POS_ERROR_STD: 'Std. deviation of positional error (m)',\n",
    "                Metric.POS_ERROR: 'Positional error (m)',\n",
    "                Metric.POS_ERROR_NUM_CAT: 'Number of catastrophic errors',\n",
    "                Metric.MEAN_FIELD_ACTIVITY: 'Mean field activity',\n",
    "                Metric.PERC_CORRECT_FIELDS: 'Proportion of correct fields',\n",
    "                Metric.AVG_NUM_FIELDS_PER_NEURON: 'Avg. number of fields (per neuron)',\n",
    "                Metric.PERC_UNIQUE_FIELD_COMBINATIONS: 'Proportion of unique field combinations',\n",
    "                Metric.ACTIVITY_FALSE_POSITIVES_NUM: 'Number of bins with false positive field',\n",
    "                Metric.ACTIVITY_FALSE_NEGATIVES_NUM: 'Number of bins with false negative field',\n",
    "                }\n"
   ],
   "metadata": {
    "collapsed": false,
    "ExecuteTime": {
     "end_time": "2023-06-16T08:38:58.272538384Z",
     "start_time": "2023-06-16T08:38:58.250407329Z"
    }
   }
  },
  {
   "cell_type": "code",
   "execution_count": 82,
   "outputs": [],
   "source": [
    "import re\n",
    "def replace_params(word, data):\n",
    "    regex = r'@([a-z_A-Z0-9]+)@'\n",
    "    new_word = word\n",
    "    for match in re.finditer(regex, word):\n",
    "        param_name = match.groups()[0]\n",
    "        new_word = new_word.replace(f'@{param_name}@', str(data[param_name]))\n",
    "    return new_word\n",
    "\n",
    "\n",
    "# Load experimental data\n",
    "def plot_multi(plot_type_id, new_figure=False):\n",
    "    data = []\n",
    "    ax = None\n",
    "    for i_plot, plot_type in enumerate(plot_types):\n",
    "        for i_exp, experiment_num in enumerate(experiment_range):\n",
    "            curr_data = load_experimental_data(ExperimentType.EVALUATION, network_type, experiment_num,\n",
    "                                               experiment_id=experiment_id)\n",
    "            data.append(curr_data)\n",
    "            curr_config = load_experimental_config(ExperimentType.EVALUATION, network_type, experiment_num,\n",
    "                                                   experiment_id=experiment_id)\n",
    "\n",
    "            x_data = curr_data[curr_config['evaluated_parameter']]\n",
    "            y_data = curr_data[plot_type]\n",
    "            # y_label = ERROR_LABELS[plot_type if i_plot == 0 else Metric.POS_ERROR]\n",
    "            if plot_type[::-1].split('_', 1)[1][::-1] not in ERROR_LABELS.keys():\n",
    "                y_label = 'Placeholder'\n",
    "            else:\n",
    "                y_label = ERROR_LABELS[plot_type[::-1].split('_', 1)[1][::-1]]\n",
    "            last_exp = i_exp == num_exp-1 and plot_type == plot_types[-1]\n",
    "            i_total = i_plot*len(experiment_range)+i_exp\n",
    "\n",
    "            labels[i_total] = replace_params(labels[i_total], curr_config)\n",
    "\n",
    "            # labels[i_total] = labels[i_total].replace('$num_neurons$', curr_config[NUM_NEURONS])\n",
    "            # labels[i_total] = labels[i_total].replace('$env_length$', curr_config[ENV_LENGTH])\n",
    "\n",
    "            line_style_id = 0 if not vary_line_style else i_total\n",
    "            color_id = plot_type_id if vary_line_style else i_total+plot_num_offset\n",
    "\n",
    "            plot_error(network_type, x_data, y_data, experiment_id, experiment_num, x_label=x_label, y_label=y_label,\n",
    "                       img_name='_'.join(plot_types), plot_type=plot_type_name, label=labels[i_total], color_id=color_id, line_style_id=line_style_id,\n",
    "                       plot_fitted_poly=fit_polys, max_poly=max_polys[i_total], plot_min_y=plot_min_y[i_total],\n",
    "                       save_plot=(last_exp and save_plot), use_all_plot_names=True, second_plot=last_exp and second_axis,\n",
    "                       show_legend=show_legend, show_plot=False, clear_plot=False, plot_size=plot_size, new_figure=(i_plot==i_exp==0) and new_figure,legend_loc=legend_loc)"
   ],
   "metadata": {
    "collapsed": false,
    "ExecuteTime": {
     "end_time": "2023-06-16T08:38:58.305371687Z",
     "start_time": "2023-06-16T08:38:58.259124899Z"
    }
   }
  },
  {
   "cell_type": "markdown",
   "source": [
    "### General Config"
   ],
   "metadata": {
    "collapsed": false
   }
  },
  {
   "cell_type": "code",
   "execution_count": 83,
   "outputs": [],
   "source": [
    "# plt.rcParams['figure.dpi'] = 100\n",
    "\n",
    "PLOT_FILE_TYPE = 'pdf'\n",
    "# experiment_id = '3-2-a'\n",
    "# experiment_id = '2-1-d'\n",
    "experiment_id = '2-4-a'\n",
    "legend_loc = 'left'\n",
    "# plot_type_name = 'circles'\n",
    "plot_type_name = 'line-circles'\n",
    "# img_name = 'field-ratio-threshold'\n",
    "# img_name = 'Patt-median-pos-error'\n",
    "# img_name = 'Patt-median-cat-error'\n",
    "# img_name = 'Patt-unique-comb'\n",
    "# img_name = 'Patt-false-pos'\n",
    "# img_name = 'max-field-size'\n",
    "img_name = 'lesion-study_all'\n",
    "plot_size = (24, 14)\n",
    "plot_num_offset = 0\n",
    "experiment_range = []\n",
    "second_axis = False\n",
    "save_plot = False\n",
    "show_legend = True\n",
    "vary_line_style = True\n",
    "fit_polys = False\n",
    "plot_min_y_global = False\n",
    "plot_types = [\n",
    "    Metric.POS_ERROR_MEAN+'_median',\n",
    "    # Metric.POS_ERROR_NUM_CAT+'_median',\n",
    "    # Metric.AVG_NUM_FIELDS_PER_NEURON+'_mean',\n",
    "    # Metric.ACTIVITY_FALSE_NEGATIVES_NUM+'_median',\n",
    "    # Metric.ACTIVITY_FALSE_POSITIVES_NUM+'_mean',\n",
    "    # Metric.PERC_UNIQUE_FIELD_COMBINATIONS+'_median',\n",
    "    # Metric.PERC_CORRECT_FIELDS+'_mean'\n",
    "              ]\n",
    "# x_label = 'Probability of neuron attractor participation - $P_{att}$'\n",
    "# x_label = 'Field ratio threshold - $\\\\tau_{fs}$'\n",
    "x_label = 'Proportion of drop-out neurons - $P_{dro}$'\n",
    "# x_label = 'Accumulated field size per neuron - $\\\\bar{\\Sigma}_{fs}$ (m)'"
   ],
   "metadata": {
    "collapsed": false,
    "ExecuteTime": {
     "end_time": "2023-06-16T08:38:58.339835411Z",
     "start_time": "2023-06-16T08:38:58.284870201Z"
    }
   }
  },
  {
   "cell_type": "markdown",
   "source": [
    "### 1. SSSF"
   ],
   "metadata": {
    "collapsed": false
   }
  },
  {
   "cell_type": "code",
   "execution_count": 84,
   "outputs": [],
   "source": [
    "##  General Config\n",
    "# PLOT_FILE_TYPE = 'pdf'\n",
    "# experiment_id = '2-4-a'\n",
    "# second_axis = False\n",
    "# save_plot = True\n",
    "# show_legend = True\n",
    "# fit_polys = False\n",
    "# plot_size = (12, 9)\n",
    "\n",
    "## Individual Config\n",
    "network_type = SSSFCAN\n",
    "experiment_range = [1]\n",
    "num_exp = len(experiment_range)\n",
    "plot_num_offset = 0\n",
    "\n",
    "max_polys = [3, 3]\n",
    "plot_min_y = [False, False]\n",
    "\n",
    "labels = ['SSSF [$N_{neu}=@num_neurons@$]']\n",
    "# labels = ['V-MSMF [N=$num_neurons$, L=$env_length$]']\n",
    "# labels = ['V-MSMF (mean error) [N=$num_neurons$, L=$env_length$]',\n",
    "#           'V-MSMF (correct fields) [N=$num_neurons$, L=$env_length$]']\n",
    "\n",
    "# labels = ['500 total neurons', '1000 total neurons']\n",
    "# labels = ['1D Variable-MSMF (200 m)', '1D Variable-MSMF (400 m)']\n",
    "# labels = ['1D Fixed-MSMF (mean)', '1D Fixed-MSMF (std. dev.)']\n",
    "# plot_types = [Metric.POS_ERROR_MEAN+'_median', Metric.PERC_CORRECT_FIELDS+'_mean']\n",
    "# plot_types = [Metric.POS_ERROR_MEAN+'_mean', Metric.AVG_NUM_FIELDS_PER_NEURON+'_mean']\n",
    "# plot_types = [Metric.POS_ERROR_MEAN+'_mean']\n",
    "# x_label = 'Max. total coverage of all fields per neuron (m)'\n",
    "# x_label = 'Percentage of neurons per attractor - f'\n",
    "# x_label = 'Total number of neurons - N'\n",
    "# x_label = 'Number of dead neurons - $N_{d}$'\n",
    "\n",
    "plot_multi(0, new_figure=True)"
   ],
   "metadata": {
    "collapsed": false,
    "ExecuteTime": {
     "end_time": "2023-06-16T08:38:58.393485964Z",
     "start_time": "2023-06-16T08:38:58.331071604Z"
    }
   }
  },
  {
   "cell_type": "markdown",
   "source": [
    "## 2. Grid-CAN"
   ],
   "metadata": {
    "collapsed": false
   }
  },
  {
   "cell_type": "code",
   "execution_count": 85,
   "outputs": [],
   "source": [
    "## General Config\n",
    "# PLOT_FILE_TYPE = 'pdf'\n",
    "# experiment_id = '2-4-a'\n",
    "# second_axis = False\n",
    "# save_plot = True\n",
    "# show_legend = True\n",
    "# fit_polys = False\n",
    "# plot_size = (12, 9)\n",
    "\n",
    "## Individual Config\n",
    "network_type = MSMFGridCAN\n",
    "# plot_num_offset = 0\n",
    "plot_num_offset += len(experiment_range)\n",
    "experiment_range = [1, 2, 3, 4, 5]\n",
    "num_exp = len(experiment_range)\n",
    "\n",
    "max_polys = [6, 3, 3, 3, 3]\n",
    "plot_min_y = [False for i in experiment_range]\n",
    "\n",
    "models = ['G-Opt-1', 'G-Opt-2', 'G-Opt-3', 'G-Opt-4', 'G-Opt-5']\n",
    "\n",
    "labels = [m + ' [$N_{neu}=@num_neurons@$, $N_{mod}=@num_modules@$, $N_{nmod}=@num_neurons_per_module@$]' for m in models]\n",
    "\n",
    "# labels = ['V-MSMF [N=$num_neurons$, L=$env_length$]']\n",
    "# labels = ['500 total neurons', '1000 total neurons']\n",
    "# labels = ['1D Variable-MSMF (200 m)', '1D Variable-MSMF (400 m)']\n",
    "# labels = ['1D Fixed-MSMF (mean)', '1D Fixed-MSMF (std. dev.)']\n",
    "\n",
    "# plot_types = [Metric.POS_ERROR_MEAN+'_median', Metric.PERC_CORRECT_FIELDS+'_mean']\n",
    "# plot_types = [Metric.POS_ERROR_MEAN+'_mean']\n",
    "\n",
    "# x_label = 'Percentage of neurons per attractor - f'\n",
    "# x_label = 'Total number of neurons - N'\n",
    "# x_label = 'Number of dead neurons - $N_{d}$'\n",
    "\n",
    "plot_multi(1)\n"
   ],
   "metadata": {
    "collapsed": false,
    "ExecuteTime": {
     "end_time": "2023-06-16T08:38:58.483110716Z",
     "start_time": "2023-06-16T08:38:58.395883851Z"
    }
   }
  },
  {
   "cell_type": "markdown",
   "source": [
    "## 3. F-MSMF"
   ],
   "metadata": {
    "collapsed": false
   }
  },
  {
   "cell_type": "code",
   "execution_count": 86,
   "outputs": [
    {
     "name": "stdout",
     "output_type": "stream",
     "text": [
      "['pos_error_mean_median']\n"
     ]
    }
   ],
   "source": [
    "## General Config\n",
    "# PLOT_FILE_TYPE = 'pdf'\n",
    "# experiment_id = '2-4-a'\n",
    "# second_axis = False\n",
    "# save_plot = True\n",
    "# show_legend = True\n",
    "# fit_polys = False\n",
    "# plot_size = (12, 9)\n",
    "\n",
    "# Individual Config\n",
    "network_type = MSMFMultiCAN\n",
    "# plot_num_offset = 0\n",
    "plot_num_offset += len(experiment_range)\n",
    "# start_id = 16\n",
    "# experiment_range = list(range(start_id, start_id+5))\n",
    "experiment_range = [1, 2, 6, 7, 3]\n",
    "num_exp = len(experiment_range)\n",
    "\n",
    "max_polys = [3 for i in experiment_range]\n",
    "plot_min_y = [False for i in experiment_range * (second_axis + 1)]\n",
    "# labels = ['F-MSMF [$N_{neu}=@num_neurons@$, $N_{AL}=[@nmin@, @nmed@, @nmax@]$, $W_{inh}=@J0@, W_{exc}=@J1@, I_{bck}=@I@$]' for i in experiment_range]\n",
    "\n",
    "models = ['F-Org-1', 'F-Org-2 ', 'F-Opt-1', 'F-Opt-2', 'F-Opt-3']\n",
    "\n",
    "labels = [m + ' [$N_{neu}=@num_neurons@$, $N_{AL}=[@nmin@, @nmed@, @nmax@]$]' for m in models]\n",
    "\n",
    "# labels = ['V-MSMF [N=$num_neurons$, L=$env_length$]']\n",
    "    # labels = ['F-MSMF (mean error) [N=$num_neurons$, L=$env_length$]',\n",
    "    #           'F-MSMF (correct fields) [N=$num_neurons$, L=$env_length$]']\n",
    "# labels = ['500 total neurons', '1000 total neurons']\n",
    "# labels = ['1D Variable-MSMF (200 m)', '1D Variable-MSMF (400 m)']\n",
    "# labels = ['1D Fixed-MSMF (mean)', '1D Fixed-MSMF (std. dev.)']\n",
    "\n",
    "# plot_types = [Metric.POS_ERROR_MEAN+'_median', Metric.PERC_CORRECT_FIELDS+'_mean']\n",
    "# plot_types = [Metric.POS_ERROR_MEAN+'_mean', Metric.AVG_NUM_FIELDS_PER_NEURON+'_mean']\n",
    "# plot_types = [Metric.POS_ERROR_MEAN+'_mean']\n",
    "\n",
    "# x_label = 'Max. total coverage of all fields per neuron (m)'\n",
    "# x_label = 'Percentage of neurons per attractor - f'\n",
    "# x_label = 'Total number of neurons - N'\n",
    "# x_label = 'Number of dead neurons - $N_{d}$'\n",
    "\n",
    "print(plot_types)\n",
    "\n",
    "plot_multi(2)\n",
    "\n",
    "# # 2nd network\n",
    "# labels = ['F-MSMF [$N_{neu}=@num_neurons@$, $N_{AL}=[@nmin@, @nmed@, @nmax@]$, $W_{inh}=@J0@, W_{exc}=@J1@, I_{bck}=@I@$]' for i in experiment_range]\n",
    "# experiment_range = list(range(start_id+5, start_id+10))\n",
    "# plot_multi(1, new_figure=False)\n",
    "#\n",
    "# # # 3rd network\n",
    "# experiment_range = list(range(start_id+10, start_id+15))\n",
    "# labels = ['F-MSMF [$N_{neu}=@num_neurons@$, $N_{AL}=[@nmin@, @nmed@, @nmax@]$, $W_{inh}=@J0@, W_{exc}=@J1@, I_{bck}=@I@$]' for i in experiment_range]\n",
    "# plot_multi(2, new_figure=False)\n",
    "\n",
    "# plt.show()"
   ],
   "metadata": {
    "collapsed": false,
    "ExecuteTime": {
     "end_time": "2023-06-16T08:38:58.559703022Z",
     "start_time": "2023-06-16T08:38:58.482919777Z"
    }
   }
  },
  {
   "cell_type": "markdown",
   "source": [
    "## 4. D-MSMF"
   ],
   "metadata": {
    "collapsed": false
   }
  },
  {
   "cell_type": "code",
   "execution_count": 87,
   "outputs": [],
   "source": [
    "## General Config\n",
    "# PLOT_FILE_TYPE = 'pdf'\n",
    "# experiment_id = '2-4-a'\n",
    "# second_axis = False\n",
    "# save_plot = True\n",
    "# show_legend = True\n",
    "# fit_polys = False\n",
    "# plot_size = (12, 9)\n",
    "\n",
    "## Individual Config\n",
    "network_type = MSMFSingleCAN\n",
    "# plot_num_offset = 0\n",
    "plot_num_offset += len(experiment_range)\n",
    "experiment_range = [1, 2]\n",
    "num_exp = len(experiment_range)\n",
    "max_polys = [3, 3]\n",
    "plot_min_y = [False for i in experiment_range]\n",
    "# labels = ['V-MSMF [$N=@num_neurons@$]']\n",
    "\n",
    "models = ['D-Org-1', 'D-Opt-1']\n",
    "\n",
    "# labels = ['V-MSMF [N=@num_neurons$, L=$env_length$]']\n",
    "labels = [m + r' [$N_{neu}=@num_neurons@$, $\\alpha=@alpha@$, $\\theta=@theta@$, $\\bar{\\Sigma}_{fs}=@max_field_sizes@$]' for m in models]\n",
    "# labels = ['V-MSMF (mean error) [N=$num_neurons$, L=$env_length$]',\n",
    "#           'V-MSMF (correct fields) [N=$num_neurons$, L=$env_length$]']\n",
    "# labels = ['500 total neurons', '1000 total neurons']\n",
    "# labels = ['1D Variable-MSMF (200 m)', '1D Variable-MSMF (400 m)']\n",
    "# labels = ['1D Fixed-MSMF (mean)', '1D Fixed-MSMF (std. dev.)']\n",
    "\n",
    "# plot_types = [Metric.POS_ERROR_MEAN+'_median', Metric.PERC_CORRECT_FIELDS+'_mean']\n",
    "# plot_types = [Metric.POS_ERROR_MEAN+'_mean', Metric.AVG_NUM_FIELDS_PER_NEURON+'_mean']\n",
    "# plot_types = [Metric.POS_ERROR_MEAN+'_mean']\n",
    "\n",
    "# x_label = 'Max. total coverage of all fields per neuron (m)'\n",
    "# x_label = 'Percentage of neurons per attractor - f'\n",
    "# x_label = 'Total number of neurons - N'\n",
    "# x_label = 'Number of dead neurons - $N_{d}$'\n",
    "\n",
    "# plot_multi(0, new_figure=True)\n",
    "plot_multi(3)\n",
    "\n",
    "# plt.show()"
   ],
   "metadata": {
    "collapsed": false,
    "ExecuteTime": {
     "end_time": "2023-06-16T08:38:58.651196164Z",
     "start_time": "2023-06-16T08:38:58.565816537Z"
    }
   }
  },
  {
   "cell_type": "markdown",
   "source": [
    "## Run Plotting"
   ],
   "metadata": {
    "collapsed": false
   }
  },
  {
   "cell_type": "code",
   "execution_count": 88,
   "outputs": [],
   "source": [
    "# import re\n",
    "# def replace_params(word, data):\n",
    "#     regex = r'@([a-z_A-Z0-9]+)@'\n",
    "#     new_word = word\n",
    "#     print(word)\n",
    "#     for match in re.finditer(regex, word):\n",
    "#         param_name = match.groups()[0]\n",
    "#         print(param_name)\n",
    "#         new_word = new_word.replace(f'@{param_name}@', str(data[param_name]))\n",
    "#         print(new_word)\n",
    "#         print()\n",
    "#     return new_word\n",
    "#\n",
    "#\n",
    "# # Load experimental data\n",
    "# data = []\n",
    "# ax = None\n",
    "# for i_plot, plot_type in enumerate(plot_types):\n",
    "#     for i_exp, experiment_num in enumerate(experiment_range):\n",
    "#         curr_data = load_experimental_data(ExperimentType.EVALUATION, network_type, experiment_num,\n",
    "#                                            experiment_id=experiment_id)\n",
    "#         data.append(curr_data)\n",
    "#         curr_config = load_experimental_config(ExperimentType.EVALUATION, network_type, experiment_num,\n",
    "#                                                experiment_id=experiment_id)\n",
    "#\n",
    "#         x_data = curr_data[curr_config['evaluated_parameter']]\n",
    "#         y_data = curr_data[plot_type]\n",
    "#         print(y_data)\n",
    "#         # y_label = ERROR_LABELS[plot_type if i_plot == 0 else Metric.POS_ERROR]\n",
    "#         y_label = ERROR_LABELS[plot_type[::-1].split('_', 1)[1][::-1]]\n",
    "#         last_exp = i_exp == num_exp-1 and plot_type == plot_types[-1]\n",
    "#         i_total = i_plot*len(experiment_range)+i_exp\n",
    "#\n",
    "#         labels[i_total] = replace_params(labels[i_total], curr_config)\n",
    "#\n",
    "#         # labels[i_total] = labels[i_total].replace('$num_neurons$', curr_config[NUM_NEURONS])\n",
    "#         # labels[i_total] = labels[i_total].replace('$env_length$', curr_config[ENV_LENGTH])\n",
    "#\n",
    "#         plot_error(network_type, x_data, y_data, experiment_id, experiment_num, x_label=x_label, y_label=y_label,\n",
    "#                    img_name='_'.join(plot_types), plot_type='circles', label=labels[i_total], color_id=i_total+plot_num_offset,\n",
    "#                    plot_fitted_poly=fit_polys, max_poly=max_polys[i_total], plot_min_y=plot_min_y[i_total],\n",
    "#                    save_plot=(last_exp and save_plot), use_all_plot_names=True, second_plot=last_exp and second_axis,\n",
    "#                    show_legend=show_legend, show_plot=False, clear_plot=False, plot_size=plot_size)"
   ],
   "metadata": {
    "collapsed": false,
    "ExecuteTime": {
     "end_time": "2023-06-16T08:38:58.653335473Z",
     "start_time": "2023-06-16T08:38:58.651557434Z"
    }
   }
  },
  {
   "cell_type": "code",
   "execution_count": 89,
   "outputs": [],
   "source": [
    "# Save Figure\n",
    "# img_file_path = join(EXPERIMENT_FOLDERS[NetworkType.GENERAL], EXPERIMENT_SUBFOLDERS[FileType.FIGURE],\n",
    "#                          f'{NetworkType.GENERAL}_{experiment_id}_{img_name}.{PLOT_FILE_TYPE}')\n",
    "# plt.savefig(img_file_path)"
   ],
   "metadata": {
    "collapsed": false,
    "ExecuteTime": {
     "end_time": "2023-06-16T08:38:58.653489143Z",
     "start_time": "2023-06-16T08:38:58.652018823Z"
    }
   }
  },
  {
   "cell_type": "code",
   "execution_count": 90,
   "outputs": [],
   "source": [
    "plt.show()"
   ],
   "metadata": {
    "collapsed": false,
    "ExecuteTime": {
     "end_time": "2023-06-16T08:54:39.623256878Z",
     "start_time": "2023-06-16T08:38:58.652464984Z"
    }
   }
  }
 ],
 "metadata": {
  "kernelspec": {
   "display_name": "Python 3",
   "language": "python",
   "name": "python3"
  },
  "language_info": {
   "codemirror_mode": {
    "name": "ipython",
    "version": 2
   },
   "file_extension": ".py",
   "mimetype": "text/x-python",
   "name": "python",
   "nbconvert_exporter": "python",
   "pygments_lexer": "ipython2",
   "version": "2.7.6"
  }
 },
 "nbformat": 4,
 "nbformat_minor": 0
}
