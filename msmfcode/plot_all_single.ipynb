{
 "cells": [
  {
   "cell_type": "code",
   "execution_count": 1,
   "metadata": {
    "collapsed": true,
    "ExecuteTime": {
     "end_time": "2023-06-16T08:55:28.766200669Z",
     "start_time": "2023-06-16T08:55:28.130806961Z"
    }
   },
   "outputs": [],
   "source": [
    "import os\n",
    "\n",
    "import matplotlib.pyplot as plt\n",
    "from matplotlib.streamplot import Grid\n",
    "\n",
    "if os.environ.get('DISPLAY') is not None:\n",
    "    %matplotlib tk\n",
    "\n",
    "import msmfcodesrc\n",
    "from msmfcode.core.config import *\n",
    "from msmfcode.models.cann import DMSMF, FMSMF, Grid, SSSF\n",
    "from msmfcode.evaluation.plot import gen_plot_error_box\n",
    "\n",
    "plt.rcParams['text.usetex'] = True\n",
    "plt.rcParams.update({'font.size': 16})\n",
    "\n",
    "# import matplotlib\n",
    "# matplotlib.rcParams['mathtext.fontset'] = 'stix'\n",
    "# matplotlib.rcParams['font.family'] = 'STIXGeneral'\n",
    "\n",
    "# Configuration\n",
    "PlotConfig.FILE_TYPE = 'pdf'"
   ]
  },
  {
   "cell_type": "markdown",
   "source": [
    "### Plot single experimental results from one model"
   ],
   "metadata": {
    "collapsed": false
   }
  },
  {
   "cell_type": "code",
   "execution_count": 21,
   "outputs": [],
   "source": [
    "# Instructions:\n",
    "#\n",
    "# 1. Change fig_name!\n",
    "\n",
    "# Config\n",
    "# network_types = [FMSMF]\n",
    "network_types = [DMSMF]\n",
    "experiment_id = 'single'\n",
    "experiment_numbers = [[1, 2, 3, 4]]\n",
    "# experiment_numbers = [[5, 6, 7, 8]]\n",
    "metric = Metric.POS_ERROR_MEAN\n",
    "metric_type = Statistics.MEDIAN\n",
    "# add_metric = f'{Metric.AVG_NUM_FIELDS_PER_NEURON}_{Statistics.MEDIAN}'\n",
    "# add_metric = f'{Metric.AVG_ACCUM_FIELD_COVERAGE_PER_NEURON}_{Statistics.MEDIAN}'\n",
    "# add_metric = f'{Metric.MEAN_FIELD_ACTIVITY}_{Statistics.MEDIAN}'\n",
    "add_metric = None\n",
    "labels = ['\\\\textbf{1}\\n\\n($I_{bck}=0.1$,\\n $W_{inh}=-0.15$,\\n $W_{exc}=0.7$)',\n",
    "          '\\\\textbf{2}\\n\\n($I_{bck}=0.1$,\\n $W_{inh}=0.00$,\\n $W_{exc}=0.0$)',\n",
    "          '\\\\textbf{3}\\n\\n($I_{bck}=0.0$,\\n $W_{inh}=-0.15$,\\n $W_{exc}=0.7$)',\n",
    "          '\\\\textbf{4}\\n\\n($I_{bck}=0.0$,\\n $W_{inh}=0.00$,\\n $W_{exc}=0.0$)']\n",
    "# fig_title = 'F-MSMF model analysis with $N=50$ Neurons'\n",
    "fig_title = 'D-MSMF model analysis with $N=50$ Neurons'\n",
    "# fig_name = f'pos-error-mean_{metric_type}_n-4000_violin'\n",
    "fig_name = f'pos-error-mean_{metric_type}_n-50_violin'\n",
    "y_label_first = 'Mean Positional Error (m)'\n",
    "y_label_second = 'Mean number of fields per neuron'\n",
    "save_fig = True\n",
    "\n",
    "gen_plot_error_box(network_types, experiment_id, experiment_numbers, metric, metric_type=metric_type,\n",
    "                   add_metric=add_metric, fig_size=None, fig_title=fig_title, fig_name=fig_name,\n",
    "                   fig_xlabels=labels, y_label_first=y_label_first, y_label_second=y_label_second,\n",
    "                   save_fig=save_fig, show_fig=True, plot_type='violin')"
   ],
   "metadata": {
    "collapsed": false,
    "ExecuteTime": {
     "end_time": "2023-06-15T20:03:13.619652765Z",
     "start_time": "2023-06-15T20:03:13.465117008Z"
    }
   }
  },
  {
   "cell_type": "code",
   "execution_count": 5,
   "outputs": [],
   "source": [
    "plt.scatter([1], [5])\n",
    "\n",
    "plt.show()"
   ],
   "metadata": {
    "collapsed": false
   }
  },
  {
   "cell_type": "markdown",
   "source": [
    "### Plot single experimental results from multiple models"
   ],
   "metadata": {
    "collapsed": false
   }
  },
  {
   "cell_type": "code",
   "execution_count": 3,
   "outputs": [],
   "source": [
    "# Config - 2-3-b - Comparison of all optimization results\n",
    "network_types = [FMSMF, DMSMF, SSSF, Grid]\n",
    "experiment_numbers = [[26], [8], [1], [1]]\n",
    "labels = ['F-Opt-1$_{}^{-}$', 'V-Opt-1$_{}^{-}$', 'S-Opt-1$_{}^{-}$', 'G-Opt-1$_{}^{-}$']\n",
    "fig_title = 'Optimization results for all models without lateral connections'\n",
    "fig_name = f'pos-error-mean_median_2-3-b-01_violin'\n"
   ],
   "metadata": {
    "collapsed": false
   }
  },
  {
   "cell_type": "code",
   "execution_count": 2,
   "outputs": [],
   "source": [
    "# Config\n",
    "network_types = [SSSF, FMSMF, DMSMF]\n",
    "# network_types = [FMSMF, DMSMF]\n",
    "# network_types = [FMSMF]\n",
    "# network_types = [DMSMF]\n",
    "experiment_id = 'single'\n",
    "fig_size = (18, 16)\n",
    "\n",
    "# eval_3-1-b-01 (F-MSMF)\n",
    "# experiment_numbers = [[8, 26, 24, 25, 23]]\n",
    "# eval_3-1-b-02 (V-MSMF)\n",
    "# experiment_numbers = [[4, 8, 18, 17]]\n",
    "# eval_3-1-c (D-MSMF)\n",
    "# experiment_numbers = [[13, 14, 15, 16]]\n",
    "# eval_3-2-a (all)\n",
    "experiment_numbers = [[2, 3], [11, 12, 17, 18, 21, 22], [8, 7, 11, 12]]\n",
    "\n",
    "\n",
    "positions = list()\n",
    "pos = 1\n",
    "for i in range(6):\n",
    "    positions.append(pos)\n",
    "    positions.append(pos+1)\n",
    "    pos += 2.5\n",
    "\n",
    "# eval_3-1-b-01 (F-MSMF)\n",
    "# positions = [1, 2, 4, 5, 6]\n",
    "# eval_3-1-b-02 (D-MSMF)\n",
    "# positions = [1, 2, 4, 5]\n",
    "# eval_3-1-c (D-MSMF)\n",
    "# positions = [1, 2, 4, 5]\n",
    "# eval_3-2-a (all)\n",
    "positions = [1, 2, 4, 5, 7, 8, 10, 11, 13, 14, 16, 17]\n",
    "\n",
    "\n",
    "metric = Metric.POS_ERROR_MEAN\n",
    "metric_type = Statistics.MEDIAN\n",
    "add_metric = f'{Metric.AVG_NUM_FIELDS_PER_NEURON}_{Statistics.MEAN}'\n",
    "add_metric = None\n",
    "\n",
    "\n",
    "\n",
    "# eval_3-1-b-01 (F-MSMF)\n",
    "# labels = ['F-Org-2$_{}^{-}$', 'F-Opt-1$_{}^{-}$', 'F-Org-2$_{}^{+o}$', 'F-Opt-3$_{}^{+o}$', 'F-Opt-4$_{}^{+o}$']\n",
    "# eval_3-1-b-02 (V-MSMF)\n",
    "# labels = ['D-Org-1$_{}^{-}$', 'D-Opt-1$_{}^{-}$', 'D-Org-1$_{}^{+o}$', 'D-Opt-2$_{}^{+o}$']\n",
    "# eval_3-1-c (D-MSMF)\n",
    "# labels = ['D-Org-1$_{}^{+}$\\n($TH_{fs}$ = 0.83)', 'D-Org-1$_{}^{+}$\\n($P_{fc}$ = 0.87)', 'D-Opt-3$_{}^{+}$\\n($TH_{fs}$ = 0.79)', 'D-Opt-3$_{}^{+}$\\n($P_{fc}$ = 0.76)']\n",
    "# eval_3-2-a (all)\n",
    "labels = ['S-Std-1$_{\\\\beta}^{-}$', 'S-Std-1$_{\\\\beta}^{+}$',\n",
    "          'F-Org-1$_{}^{-}$', 'F-Org-1$_{}^{+}$', 'F-Org-2$_{}^{-}$', 'F-Org-2$_{}^{+}$', 'F-Opt-1$_{}^{-}$', 'F-Opt-1$_{}^{+}$',\n",
    "          'D-Org-1$_{}^{-}$', 'D-Org-1$_{}^{+}$', 'D-Opt-1$_{}^{-}$', 'D-Opt-1$_{}^{+}$']\n",
    "\n",
    "# labels = range(12)\n",
    "\n",
    "\n",
    "# eval_3-1-b-01 (F-MSMF)\n",
    "# fig_title = 'Optimization results with lateral connections (F-MSMF)'\n",
    "# eval_3-1-b-02 (V-MSMF)\n",
    "# fig_title = 'Optimization results with lateral connections (D-MSMF)'\n",
    "# eval_3-1-c (D-MSMF)\n",
    "# fig_title = 'Field connection analysis of D-MSMF model'\n",
    "# eval_3-2-a (all)\n",
    "fig_title = 'CAN analysis with input removal (20 m)'\n",
    "\n",
    "\n",
    "\n",
    "# eval_3-1-b\n",
    "# fig_name = f'pos-error-mean_{metric_type}_3-1-b-01_violin'\n",
    "# eval_3-1-c\n",
    "# fig_name = f'pos-error-mean_{metric_type}_3-1-c_violin'\n",
    "# eval_3-2-a (all)\n",
    "fig_name = f'pos-error-mean_{metric_type}_3-2-a_violin'\n",
    "\n",
    "\n",
    "y_label_first = 'Mean positional error (m)'\n",
    "y_label_second = 'Average number of fields per neuron'\n",
    "save_fig = False\n",
    "\n",
    "# print()\n",
    "\n",
    "gen_plot_error_box(network_types, experiment_id, experiment_numbers, metric, metric_type=metric_type,\n",
    "                   add_metric=add_metric, fig_size=fig_size, fig_title=fig_title, fig_name=fig_name,\n",
    "                   fig_xlabels=labels, y_label_first=y_label_first, y_label_second=y_label_second,\n",
    "                   save_fig=save_fig, show_fig=True, plot_type='violin', positions=positions)"
   ],
   "metadata": {
    "collapsed": false,
    "ExecuteTime": {
     "end_time": "2023-06-16T08:55:41.558816474Z",
     "start_time": "2023-06-16T08:55:41.426266330Z"
    }
   }
  },
  {
   "cell_type": "code",
   "execution_count": null,
   "outputs": [],
   "source": [
    "## Backup:\n",
    "\n",
    "# labels = [net_i.__name__ for net_i in network_types]\n",
    "# labels = [NetworkType.SSSF_CAN, NetworkType.MSMF_MULTI_CAN+' (N=4000)',\n",
    "#           NetworkType.MSMF_MULTI_CAN+' (N=50)', NetworkType.MSMF_SINGLE_CAN,\n",
    "#           NetworkType.MSMF_GRID_CAN]\n",
    "# labels = [NetworkType.SSSF_CAN, NetworkType.MSMF_MULTI_CAN, NetworkType.MSMF_SINGLE_CAN,\n",
    "#           NetworkType.MSMF_GRID_CAN]\n",
    "\n",
    "# labels = ['V-Org-1$_{}^{+}$ (field-ratio-threshold = 0.83)', 'V-Org-1$_{}^{+}$ (field-connection-prob = 0.87)', 'V-Opt-3$_{}^{+}$ (field-ratio-threshold = 0.79)', 'V-Opt-3$_{}^{+}$ (field-connection-prob = 0.76)']"
   ],
   "metadata": {
    "collapsed": false
   }
  }
 ],
 "metadata": {
  "kernelspec": {
   "display_name": "Python 3",
   "language": "python",
   "name": "python3"
  },
  "language_info": {
   "codemirror_mode": {
    "name": "ipython",
    "version": 2
   },
   "file_extension": ".py",
   "mimetype": "text/x-python",
   "name": "python",
   "nbconvert_exporter": "python",
   "pygments_lexer": "ipython2",
   "version": "2.7.6"
  }
 },
 "nbformat": 4,
 "nbformat_minor": 0
}
